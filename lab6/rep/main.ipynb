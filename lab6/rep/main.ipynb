{
 "cells": [
  {
   "cell_type": "markdown",
   "metadata": {},
   "source": [
    "# Задание 1"
   ]
  },
  {
   "cell_type": "code",
   "execution_count": 1,
   "metadata": {},
   "outputs": [],
   "source": [
    "class Polyclinic:\n",
    "    __count = 0\n",
    "    __this_object_number = int()\n",
    "\n",
    "    __phone = str()\n",
    "    __address = str()\n",
    "    __number = int()\n",
    "\n",
    "    def __init__(self):\n",
    "        Polyclinic.__count += 1\n",
    "        print('Constructor without parametrs #%d' % Polyclinic.__count)\n",
    "        self.__this_object_number = Polyclinic.__count\n",
    "\n",
    "    def __init__(self, phone = '+370-162-00-00-00', address = 'Brest', number = 6):\n",
    "        Polyclinic.__count += 1\n",
    "        print('Constructor with parametrs #%d' % Polyclinic.__count)\n",
    "        self.__this_object_number = Polyclinic.__count\n",
    "        \n",
    "        try:\n",
    "            self.__phone = phone\n",
    "            self.__address = address\n",
    "            self.__number = int(number)\n",
    "        except ValueError as e:\n",
    "            print('Error in constructor #%d: __init__(self, phone, address, number)' % self.__this_object_number)\n",
    "            print(e)\n",
    "\n",
    "    def show(self):\n",
    "        print('object = {')\n",
    "        print('\\t%8s: %s,' % ('phone', self.__phone))\n",
    "        print('\\t%8s: %s,' % ('adress', self.__address))\n",
    "        print('\\t%8s: %d' % ('number', self.__number))\n",
    "        print('}')\n",
    "\n",
    "    def set_phone(self, phone = '+375-162-00-00-00'):\n",
    "        self.__phone = phone\n",
    "\n",
    "    def set_address(self, address = '...'):\n",
    "        self.__address = address\n",
    "\n",
    "    def set_number(self, number = 0):\n",
    "        self.__number = number\n",
    "\n",
    "    def get_phone(self):\n",
    "        return self.__phone\n",
    "\n",
    "    def get_address(self):\n",
    "        return self.__address\n",
    "\n",
    "    def get_number(self):\n",
    "        return self.__number\n",
    "\n",
    "    def __del__(self):\n",
    "        print('destructor #%d' % self.__this_object_number)"
   ]
  },
  {
   "cell_type": "markdown",
   "metadata": {},
   "source": [
    "Создаем объект. Применяет ему сетер. Выводим результат с помощью гетера."
   ]
  },
  {
   "cell_type": "code",
   "execution_count": 2,
   "metadata": {},
   "outputs": [
    {
     "name": "stdout",
     "output_type": "stream",
     "text": [
      "Constructor with parametrs #1\n",
      "object = {\n",
      "\t   phone: +370-162-00-00-00,\n",
      "\t  adress: Brest,\n",
      "\t  number: 6\n",
      "}\n",
      "123\n",
      "qqqqqq\n",
      "555\n",
      "object = {\n",
      "\t   phone: 123,\n",
      "\t  adress: qqqqqq,\n",
      "\t  number: 555\n",
      "}\n",
      "\n"
     ]
    }
   ],
   "source": [
    "# Пробует гетеры и сеторы\n",
    "j = Polyclinic()\n",
    "j.show()\n",
    "\n",
    "j.set_phone('123')\n",
    "print(j.get_phone())\n",
    "\n",
    "j.set_address('qqqqqq')\n",
    "print(j.get_address())\n",
    "\n",
    "j.set_number(555)\n",
    "print(j.get_number())\n",
    "\n",
    "j.show()\n",
    "print()"
   ]
  },
  {
   "cell_type": "markdown",
   "metadata": {},
   "source": [
    "Создаем объект с помощью конструктора с параметрами. Просматриваем объект"
   ]
  },
  {
   "cell_type": "code",
   "execution_count": 3,
   "metadata": {},
   "outputs": [
    {
     "name": "stdout",
     "output_type": "stream",
     "text": [
      "Constructor with parametrs #2\n",
      "object = {\n",
      "\t   phone: 22-33-44,\n",
      "\t  adress: Tyt-tam,\n",
      "\t  number: 3\n",
      "}\n"
     ]
    }
   ],
   "source": [
    "# Пробуем конструктор с параметрами\n",
    "h = Polyclinic('22-33-44', 'Tyt-tam', 3)\n",
    "h.show()"
   ]
  },
  {
   "cell_type": "markdown",
   "metadata": {},
   "source": [
    "# Задание 2"
   ]
  },
  {
   "cell_type": "markdown",
   "metadata": {},
   "source": [
    "Схема классов:\n",
    "\n",
    "![](./../src/task2/option9/flowcharts/scheme.png)"
   ]
  },
  {
   "cell_type": "code",
   "execution_count": 4,
   "metadata": {},
   "outputs": [],
   "source": [
    "class Person:\n",
    "    counter = 0\n",
    "    this_object_number = 0\n",
    "\n",
    "    name = str()\n",
    "    surname = str()\n",
    "    middlename = str()\n",
    "\n",
    "    def __init__(self):\n",
    "        Person.counter += 1\n",
    "        self.this_object_number = Person.counter\n",
    "        print('Consructor Person #%d\\n' % Person.counter)\n",
    "\n",
    "    def __init__(self, name = 'Имя', surname = 'Фамилия', middlename = 'Отчество'):\n",
    "        Person.counter += 1\n",
    "        self.this_object_number = Person.counter\n",
    "        print('Consructor with parametrs Person #%d\\n' % Person.counter)\n",
    "        self.name = name\n",
    "        self.surname = surname\n",
    "        self.middlename = middlename\n",
    "\n",
    "    def show(self):\n",
    "        print('{')\n",
    "        print('\\t%10s: %s' % ('name', self.name))\n",
    "        print('\\t%10s: %s' % ('surname', self.surname))\n",
    "        print('\\t%10s: %s' % ('middlename', self.middlename))\n",
    "        print('}\\n')\n",
    "\n",
    "    def set_name(self, name = 'Имя'):\n",
    "        self.name = name\n",
    "\n",
    "    def set_surname(self, surname = 'Фамилия'):\n",
    "        self.surname = surname\n",
    "\n",
    "    def set_middlename(self, middlename = 'Отчество'):\n",
    "        self.middlename = middlename\n",
    "\n",
    "    def get_name(self):\n",
    "        return self.name\n",
    "\n",
    "    def get_surname(self):\n",
    "        return self.surname\n",
    "    \n",
    "    def get_middlename(self):\n",
    "        return self.middlename\n",
    "\n",
    "    def read(self):\n",
    "        self.name = str(input('Имя призывника: '))\n",
    "        self.surname = str(input('Фамилия призывника: '))\n",
    "        self.middlename = str(input('Отчество призывника: '))\n",
    "\n",
    "    def __del__(self):\n",
    "        print('destructor Person #%d\\n' % self.this_object_number)"
   ]
  },
  {
   "cell_type": "code",
   "execution_count": 5,
   "metadata": {},
   "outputs": [],
   "source": [
    "class Militarian(Person):\n",
    "    __position = str()\n",
    "\n",
    "    def __init__(self):\n",
    "        Militarian.counter += 1\n",
    "        self.this_object_number = Militarian.counter\n",
    "        print('Consructor Militarian #%d\\n' % Militarian.counter)\n",
    "\n",
    "    def __init__(self, name = 'Имя', surname = 'Фамилия', middlename = 'Отчество', position = 'Рядовой'):\n",
    "        Militarian.counter += 1\n",
    "        self.this_object_number = Militarian.counter\n",
    "        print('Consructor with parametrs Militarian #%d\\n' % Militarian.counter)\n",
    "        self.name = name\n",
    "        self.surname = surname\n",
    "        self.middlename = middlename\n",
    "        self.__position = position\n",
    "\n",
    "    def show(self):\n",
    "        print('{')\n",
    "        print('\\t%10s: %s' % ('name', self.name))\n",
    "        print('\\t%10s: %s' % ('surname', self.surname))\n",
    "        print('\\t%10s: %s' % ('middlename', self.middlename))\n",
    "        print('\\t%10s: %s' % ('position', self.__position))\n",
    "        print('}\\n')\n",
    "\n",
    "    def set_position(self, position = 'Рядовой\\n'):\n",
    "        self.__position = position\n",
    "\n",
    "    def get_position(self):\n",
    "        return self.__position\n",
    "\n",
    "    def read(self):\n",
    "        self.name = str(input('Имя призывника: '))\n",
    "        self.surname = str(input('Фамилия призывника: '))\n",
    "        self.middlename = str(input('Отчество призывника: '))\n",
    "        self.__position = str(input('Должность: '))\n",
    "\n",
    "    def __del__(self):\n",
    "        print('destructor Militarian #%d\\n' % self.this_object_number)"
   ]
  },
  {
   "cell_type": "code",
   "execution_count": 6,
   "metadata": {},
   "outputs": [],
   "source": [
    "class Conscript(Person):\n",
    "    __age = int()\n",
    "\n",
    "    def __init__(self):\n",
    "        Conscript.counter += 1\n",
    "        self.this_object_number = Conscript.counter\n",
    "        print('Consructor Conscript #%d\\n' % Conscript.counter)\n",
    "\n",
    "    def __init__(self, name = 'Имя', surname = 'Фамилия', middlename = 'Отчество', age = '0'):\n",
    "        Conscript.counter += 1\n",
    "        self.this_object_number = Conscript.counter\n",
    "        print('Consructor with parametrs Conscript #%d\\n' % Conscript.counter)\n",
    "        self.name = name\n",
    "        self.surname = surname\n",
    "        self.middlename = middlename\n",
    "        self.__age = age\n",
    "\n",
    "    def show(self):\n",
    "        print('{')\n",
    "        print('\\t%10s: %s' % ('name', self.name))\n",
    "        print('\\t%10s: %s' % ('surname', self.surname))\n",
    "        print('\\t%10s: %s' % ('middlename', self.middlename))\n",
    "        print('\\t%10s: %s' % ('age', self.__age))\n",
    "        print('}\\n')\n",
    "\n",
    "    def set_age(self, age = 0):\n",
    "        self.__age = age\n",
    "\n",
    "    def get_age(self):\n",
    "        return self.__age\n",
    "\n",
    "    def read(self):\n",
    "        self.name = str(input('Имя призывника: '))\n",
    "        self.surname = str(input('Фамилия призывника: '))\n",
    "        self.middlename = str(input('Отчество призывника: '))\n",
    "        self.__age = int(input('Возвраст: '))\n",
    "\n",
    "    def __del__(self):\n",
    "        print('destructor Conscript #%d\\n' % self.this_object_number)"
   ]
  },
  {
   "cell_type": "code",
   "execution_count": 7,
   "metadata": {},
   "outputs": [
    {
     "name": "stdout",
     "output_type": "stream",
     "text": [
      "Consructor with parametrs Person #1\n",
      "\n",
      "{\n",
      "\t      name: Имя\n",
      "\t   surname: Фамилия\n",
      "\tmiddlename: Отчество\n",
      "}\n",
      "\n",
      "Имя призывника: Иван\n",
      "Фамилия призывника: Иванов\n",
      "Отчество призывника: Иванович\n",
      "{\n",
      "\t      name: Иван\n",
      "\t   surname: Иванов\n",
      "\tmiddlename: Иванович\n",
      "}\n",
      "\n"
     ]
    }
   ],
   "source": [
    "person = Person()\n",
    "person.show()\n",
    "person.read()\n",
    "person.show()"
   ]
  },
  {
   "cell_type": "code",
   "execution_count": 8,
   "metadata": {},
   "outputs": [
    {
     "name": "stdout",
     "output_type": "stream",
     "text": [
      "Consructor with parametrs Militarian #2\n",
      "\n",
      "{\n",
      "\t      name: Имя\n",
      "\t   surname: Фамилия\n",
      "\tmiddlename: Отчество\n",
      "\t  position: Рядовой\n",
      "}\n",
      "\n",
      "Имя призывника: Сергей\n",
      "Фамилия призывника: Сергеев\n",
      "Отчество призывника: Сергеевич\n",
      "Должность: Майор\n",
      "{\n",
      "\t      name: Сергей\n",
      "\t   surname: Сергеев\n",
      "\tmiddlename: Сергеевич\n",
      "\t  position: Майор\n",
      "}\n",
      "\n"
     ]
    }
   ],
   "source": [
    "militarian = Militarian()\n",
    "militarian.show()\n",
    "militarian.read()\n",
    "militarian.show()"
   ]
  },
  {
   "cell_type": "code",
   "execution_count": 9,
   "metadata": {},
   "outputs": [
    {
     "name": "stdout",
     "output_type": "stream",
     "text": [
      "Consructor with parametrs Conscript #2\n",
      "\n",
      "{\n",
      "\t      name: Имя\n",
      "\t   surname: Фамилия\n",
      "\tmiddlename: Отчество\n",
      "\t       age: 0\n",
      "}\n",
      "\n",
      "Имя призывника: Пётр\n",
      "Фамилия призывника: Петров\n",
      "Отчество призывника: Петрович\n",
      "Возвраст: 16\n",
      "{\n",
      "\t      name: Пётр\n",
      "\t   surname: Петров\n",
      "\tmiddlename: Петрович\n",
      "\t       age: 16\n",
      "}\n",
      "\n"
     ]
    }
   ],
   "source": [
    "conscript = Conscript()\n",
    "conscript.show()\n",
    "conscript.read()\n",
    "conscript.show()"
   ]
  },
  {
   "cell_type": "code",
   "execution_count": 10,
   "metadata": {},
   "outputs": [
    {
     "name": "stdout",
     "output_type": "stream",
     "text": [
      "Consructor with parametrs Person #2\n",
      "\n",
      "Aaa\n",
      "Bbb\n",
      "Ccc\n"
     ]
    }
   ],
   "source": [
    "person1 = Person()\n",
    "person1.set_name('Aaa')\n",
    "person1.set_surname('Bbb')\n",
    "person1.set_middlename('Ccc')\n",
    "print(person1.get_name())\n",
    "print(person1.get_surname())\n",
    "print(person1.get_middlename())"
   ]
  },
  {
   "cell_type": "code",
   "execution_count": 11,
   "metadata": {},
   "outputs": [
    {
     "name": "stdout",
     "output_type": "stream",
     "text": [
      "Consructor with parametrs Militarian #3\n",
      "\n",
      "Ddd\n",
      "Eee\n",
      "Fff\n",
      "Ggg\n"
     ]
    }
   ],
   "source": [
    "militarian1 = Militarian()\n",
    "militarian1.set_name('Ddd')\n",
    "militarian1.set_surname('Eee')\n",
    "militarian1.set_middlename('Fff')\n",
    "militarian1.set_position('Ggg')\n",
    "print(militarian1.get_name())\n",
    "print(militarian1.get_surname())\n",
    "print(militarian1.get_middlename())\n",
    "print(militarian1.get_position())"
   ]
  },
  {
   "cell_type": "code",
   "execution_count": 12,
   "metadata": {},
   "outputs": [
    {
     "name": "stdout",
     "output_type": "stream",
     "text": [
      "Consructor with parametrs Conscript #3\n",
      "\n",
      "Hhh\n",
      "Iii\n",
      "Jjj\n",
      "17\n"
     ]
    }
   ],
   "source": [
    "conscript1 = Conscript()\n",
    "conscript1.set_name('Hhh')\n",
    "conscript1.set_surname('Iii')\n",
    "conscript1.set_middlename('Jjj')\n",
    "conscript1.set_age(17)\n",
    "print(conscript1.get_name())\n",
    "print(conscript1.get_surname())\n",
    "print(conscript1.get_middlename())\n",
    "print(conscript1.get_age())"
   ]
  }
 ],
 "metadata": {
  "kernelspec": {
   "display_name": "Python 3",
   "language": "python",
   "name": "python3"
  },
  "language_info": {
   "codemirror_mode": {
    "name": "ipython",
    "version": 3
   },
   "file_extension": ".py",
   "mimetype": "text/x-python",
   "name": "python",
   "nbconvert_exporter": "python",
   "pygments_lexer": "ipython3",
   "version": "3.7.3"
  }
 },
 "nbformat": 4,
 "nbformat_minor": 4
}
